{
 "cells": [
  {
   "cell_type": "markdown",
   "id": "076b4519",
   "metadata": {},
   "source": [
    "## 1 - Question"
   ]
  },
  {
   "cell_type": "raw",
   "id": "1dc9e469",
   "metadata": {},
   "source": [
    "'''A Series is a one-dimensional array of data. \n",
    "It can hold data of any type: string, integer, float, dictionaries, lists, booleans, and more.\n",
    "'''"
   ]
  },
  {
   "cell_type": "markdown",
   "id": "3bc29d92",
   "metadata": {},
   "source": [
    "## 2 - Question"
   ]
  },
  {
   "cell_type": "code",
   "execution_count": 1,
   "id": "6fca9721",
   "metadata": {},
   "outputs": [],
   "source": [
    "import pandas as pd "
   ]
  },
  {
   "cell_type": "code",
   "execution_count": 2,
   "id": "be50a2e9",
   "metadata": {},
   "outputs": [],
   "source": [
    "import numpy as np"
   ]
  },
  {
   "cell_type": "code",
   "execution_count": 3,
   "id": "35d90ba3",
   "metadata": {},
   "outputs": [],
   "source": [
    "a = [1, 2, 3,4,5,6,7,8,9,10,11,12]\n",
    "months = pd.Series(a, index =['January','February','March','April','May','June','July','August','September','October','November','December'])"
   ]
  },
  {
   "cell_type": "code",
   "execution_count": 4,
   "id": "17e663d7",
   "metadata": {},
   "outputs": [
    {
     "name": "stdout",
     "output_type": "stream",
     "text": [
      "Months\n",
      "January       1\n",
      "February      2\n",
      "March         3\n",
      "April         4\n",
      "May           5\n",
      "June          6\n",
      "July          7\n",
      "August        8\n",
      "September     9\n",
      "October      10\n",
      "November     11\n",
      "December     12\n",
      "dtype: int64\n"
     ]
    }
   ],
   "source": [
    "print('Months')\n",
    "print(months)\n"
   ]
  },
  {
   "cell_type": "markdown",
   "id": "45bbe4c8",
   "metadata": {},
   "source": [
    "## 3 - Question"
   ]
  },
  {
   "cell_type": "markdown",
   "id": "6486bf09",
   "metadata": {},
   "source": [
    "I don't know the exact number of other groups, so I just wrote them randomly."
   ]
  },
  {
   "cell_type": "code",
   "execution_count": 5,
   "id": "412f749f",
   "metadata": {},
   "outputs": [
    {
     "name": "stdout",
     "output_type": "stream",
     "text": [
      "Groups\n",
      "MatMIE      28\n",
      "Mat DAIS    29\n",
      "COMIE       31\n",
      "COMEC       34\n",
      "dtype: int64\n"
     ]
    }
   ],
   "source": [
    "groups={'MatMIE': 28,'Mat DAIS':29, 'COMIE': 31,'COMEC':34}\n",
    "students = pd.Series(groups)\n",
    "print('Groups')\n",
    "print(students)"
   ]
  },
  {
   "cell_type": "markdown",
   "id": "1f94ce79",
   "metadata": {},
   "source": [
    "## 4 - Question"
   ]
  },
  {
   "cell_type": "markdown",
   "id": "78e61b00",
   "metadata": {},
   "source": [
    "Sample Python dictionary data and list labels which is given in OCS:\n"
   ]
  },
  {
   "cell_type": "code",
   "execution_count": 6,
   "id": "c201805e",
   "metadata": {},
   "outputs": [
    {
     "name": "stdout",
     "output_type": "stream",
     "text": [
      "        name  score  attempts qualify\n",
      "a  Anastasia   12.5         1     yes\n",
      "b       Dima    9.0         3      no\n",
      "c  Katherine   16.5         2     yes\n",
      "d      James    NaN         3      no\n",
      "e      Emily    9.0         2      no\n",
      "f    Michael   20.0         3     yes\n",
      "g    Matthew   14.5         1     yes\n",
      "h      Laura    NaN         1      no\n",
      "i      Kevin    8.0         2      no\n",
      "j      Jonas   19.0         1     yes\n"
     ]
    }
   ],
   "source": [
    "exam_data = {'name': ['Anastasia', 'Dima', 'Katherine', 'James', 'Emily', 'Michael', 'Matthew', 'Laura', 'Kevin', 'Jonas'],\n",
    "'score': [12.5, 9, 16.5, np.nan, 9, 20, 14.5, np.nan, 8, 19],\n",
    "'attempts': [1, 3, 2, 3, 2, 3, 1, 1, 2, 1],\n",
    "'qualify': ['yes', 'no', 'yes', 'no', 'no', 'yes', 'yes', 'no', 'no', 'yes']}\n",
    "labels = ['a', 'b', 'c', 'd', 'e', 'f', 'g', 'h', 'i', 'j']\n",
    "data=pd.DataFrame (exam_data, index=labels)\n",
    "print (data )"
   ]
  },
  {
   "cell_type": "markdown",
   "id": "445dba90",
   "metadata": {},
   "source": [
    "My Python dictionary, which I create:"
   ]
  },
  {
   "cell_type": "code",
   "execution_count": 7,
   "id": "b6e6f36d",
   "metadata": {},
   "outputs": [
    {
     "name": "stdout",
     "output_type": "stream",
     "text": [
      "        Name       Surname  Group number  Assignment number\n",
      "1   Nursezim        Alieva             1                  1\n",
      "2     Dariya       Aralova             1                  1\n",
      "3      Aliia       Asanova             1                  1\n",
      "4     Meerim   Askarbekova             1                  1\n",
      "5    Aigerim     Bekibaeva             1                  1\n",
      "6     Madina     Gabbazova             1                  1\n",
      "7   Aiturgan    Kanybekova             2                  3\n",
      "8    Perizat  Kunduzbekova             2                  3\n",
      "9      Gulum      Manasova             2                  3\n",
      "10     Nazik   Omurgazieva             3                  2\n"
     ]
    }
   ],
   "source": [
    "calculus_assignment = {'Name':['Nursezim', 'Dariya', 'Aliia', 'Meerim', 'Aigerim', 'Madina', 'Aiturgan','Perizat','Gulum', 'Nazik'],\n",
    "                       'Surname':['Alieva','Aralova','Asanova','Askarbekova','Bekibaeva','Gabbazova','Kanybekova','Kunduzbekova','Manasova','Omurgazieva'],\n",
    "                       'Group number':[1,1,1,1,1,1,2,2,2,3],\n",
    "                       'Assignment number':[1,1,1,1,1,1,3,3,3,2]}\n",
    "labels=[1,2,3,4,5,6,7,8,9,10]\n",
    "calculus=pd.DataFrame(calculus_assignment, index=labels)\n",
    "print(calculus)\n"
   ]
  },
  {
   "cell_type": "markdown",
   "id": "c1b9b0ef",
   "metadata": {},
   "source": [
    "## 5- Question"
   ]
  },
  {
   "cell_type": "markdown",
   "id": "6f361a4f",
   "metadata": {},
   "source": [
    "This task related with that Sample Python Program, which is given in OCS.\n",
    "Write a Pandas program to select the rows where the number of attempts in the examination is greater than 2."
   ]
  },
  {
   "cell_type": "code",
   "execution_count": 8,
   "id": "4df67093",
   "metadata": {},
   "outputs": [
    {
     "name": "stdout",
     "output_type": "stream",
     "text": [
      "Number of attempts in the examination which are greater than 2:\n",
      "      name  score  attempts qualify\n",
      "b     Dima    9.0         3      no\n",
      "d    James    NaN         3      no\n",
      "f  Michael   20.0         3     yes\n"
     ]
    }
   ],
   "source": [
    "print('Number of attempts in the examination which are greater than 2:')\n",
    "attempts2= data[data['attempts']>2]\n",
    "print(attempts2)"
   ]
  },
  {
   "cell_type": "markdown",
   "id": "9b1814ef",
   "metadata": {},
   "source": [
    "Now the task related with my Python dictionary program:\n",
    "Select the rows where the the Group number is 1 which is my group."
   ]
  },
  {
   "cell_type": "code",
   "execution_count": 9,
   "id": "1dd48767",
   "metadata": {},
   "outputs": [
    {
     "name": "stdout",
     "output_type": "stream",
     "text": [
      "The first group's members are: \n",
      "       Name      Surname  Group number  Assignment number\n",
      "1  Nursezim       Alieva             1                  1\n",
      "2    Dariya      Aralova             1                  1\n",
      "3     Aliia      Asanova             1                  1\n",
      "4    Meerim  Askarbekova             1                  1\n",
      "5   Aigerim    Bekibaeva             1                  1\n",
      "6    Madina    Gabbazova             1                  1\n"
     ]
    }
   ],
   "source": [
    "print('The first group\\'s members are: ')\n",
    "my_group=calculus[calculus['Group number']==1]\n",
    "print(my_group)"
   ]
  }
 ],
 "metadata": {
  "kernelspec": {
   "display_name": "Python 3 (ipykernel)",
   "language": "python",
   "name": "python3"
  },
  "language_info": {
   "codemirror_mode": {
    "name": "ipython",
    "version": 3
   },
   "file_extension": ".py",
   "mimetype": "text/x-python",
   "name": "python",
   "nbconvert_exporter": "python",
   "pygments_lexer": "ipython3",
   "version": "3.11.5"
  }
 },
 "nbformat": 4,
 "nbformat_minor": 5
}
